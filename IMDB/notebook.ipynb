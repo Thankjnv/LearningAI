{
 "cells": [
  {
   "cell_type": "code",
   "id": "initial_id",
   "metadata": {
    "collapsed": true,
    "ExecuteTime": {
     "end_time": "2025-01-10T16:08:22.731114Z",
     "start_time": "2025-01-10T16:08:22.726537Z"
    }
   },
   "source": [
    "import matplotlib.pyplot as plt\n",
    "import os\n",
    "import re\n",
    "import shutil\n",
    "import string\n",
    "import tensorflow as tf"
   ],
   "outputs": [],
   "execution_count": 22
  },
  {
   "metadata": {},
   "cell_type": "code",
   "source": [
    "url = \"https://ai.stanford.edu/~amaas/data/sentiment/aclImdb_v1.tar.gz\"\n",
    "\n",
    "dataset = tf.keras.utils.get_file(\"aclImdb_v1\", url,\n",
    "                                    untar=True, cache_dir='.',\n",
    "                                    cache_subdir='')"
   ],
   "id": "d1d255fa0dd85827",
   "outputs": [],
   "execution_count": null
  },
  {
   "metadata": {
    "ExecuteTime": {
     "end_time": "2025-01-10T16:08:24.628035Z",
     "start_time": "2025-01-10T16:08:24.618397Z"
    }
   },
   "cell_type": "code",
   "source": [
    "# Without downloading again\n",
    "dataset = r'.\\aclImdb_v1'"
   ],
   "id": "23897cc426468ab",
   "outputs": [],
   "execution_count": 23
  },
  {
   "metadata": {
    "ExecuteTime": {
     "end_time": "2025-01-10T16:08:26.212808Z",
     "start_time": "2025-01-10T16:08:26.203280Z"
    }
   },
   "cell_type": "code",
   "source": "dataset_dir = os.path.join(os.path.abspath(dataset), 'aclImdb')",
   "id": "4f743a2b315d9d28",
   "outputs": [],
   "execution_count": 24
  },
  {
   "metadata": {
    "ExecuteTime": {
     "end_time": "2025-01-10T16:11:06.920430Z",
     "start_time": "2025-01-10T16:11:04.844119Z"
    }
   },
   "cell_type": "code",
   "source": [
    "batch_size = 32\n",
    "seed = 42\n",
    "validation_split = 0.2\n",
    "\n",
    "train_dir = os.path.join(dataset_dir, 'train')\n",
    "test_dir = os.path.join(dataset_dir, 'test')\n",
    "\n",
    "raw_train_ds = tf.keras.utils.text_dataset_from_directory(\n",
    "    train_dir,\n",
    "    batch_size=batch_size,\n",
    "    validation_split=validation_split,\n",
    "    subset='training',\n",
    "    seed=seed)\n",
    "\n",
    "raw_validation_ds = tf.keras.utils.text_dataset_from_directory(\n",
    "    train_dir,\n",
    "    batch_size=batch_size,\n",
    "    validation_split=validation_split,\n",
    "    subset='validation',\n",
    "    seed=seed)\n",
    "\n",
    "raw_test_ds = tf.keras.utils.text_dataset_from_directory(\n",
    "    test_dir,\n",
    "    batch_size=batch_size)"
   ],
   "id": "2464998130397b8c",
   "outputs": [
    {
     "name": "stdout",
     "output_type": "stream",
     "text": [
      "Found 25000 files belonging to 2 classes.\n",
      "Using 20000 files for training.\n",
      "Found 25000 files belonging to 2 classes.\n",
      "Using 5000 files for validation.\n",
      "Found 4647 files belonging to 2 classes.\n"
     ]
    }
   ],
   "execution_count": 34
  },
  {
   "metadata": {},
   "cell_type": "code",
   "outputs": [],
   "execution_count": null,
   "source": [
    "import numpy as np\n",
    "\n",
    "# Still need to understand how to use vectors from the file\n",
    "with open(os.path.join(dataset_dir, 'imdb.vocab'), 'rb') as words_file:\n",
    "        words = [x.strip() for x in words_file.readlines()]\n",
    "with open(os.path.join(dataset_dir, 'imdbEr.txt'), 'rb') as vectors_file:\n",
    "    vectors = np.array([float(x.strip()) for x in vectors_file.readlines()])"
   ],
   "id": "38199bf2bdeef3c4"
  },
  {
   "metadata": {},
   "cell_type": "code",
   "source": [
    "vocab = list(zip(words, vectors))\n",
    "vocab[0]"
   ],
   "id": "11f1b234ccb07790",
   "outputs": [],
   "execution_count": null
  },
  {
   "metadata": {
    "ExecuteTime": {
     "end_time": "2025-01-10T16:11:11.032989Z",
     "start_time": "2025-01-10T16:11:11.009138Z"
    }
   },
   "cell_type": "code",
   "source": [
    "def custom_standardization(input_data):\n",
    "  lowercase = tf.strings.lower(input_data)\n",
    "  stripped_html = tf.strings.regex_replace(lowercase, '<br />', ' ')\n",
    "  return tf.strings.regex_replace(stripped_html,\n",
    "                                  '[%s]' % re.escape(string.punctuation),\n",
    "                                  '')\n",
    "\n",
    "max_features = 10000\n",
    "sequence_length = 250\n",
    "\n",
    "vectorize_layer = tf.keras.layers.TextVectorization(\n",
    "    standardize=custom_standardization,\n",
    "    max_tokens=max_features,\n",
    "    output_mode='int',\n",
    "    output_sequence_length=sequence_length)\n"
   ],
   "id": "b6e79972af38a2d9",
   "outputs": [],
   "execution_count": 35
  },
  {
   "metadata": {},
   "cell_type": "code",
   "source": [
    "# Understand why it doesn't work\n",
    "vectorize_layer = tf.keras.layers.TextVectorization(standardize=custom_standardization, vocabulary=words, output_mode='tf_idf', idf_weights=vectors)"
   ],
   "id": "3515a6e0845e2b43",
   "outputs": [],
   "execution_count": null
  },
  {
   "metadata": {
    "ExecuteTime": {
     "end_time": "2025-01-10T16:11:21.079424Z",
     "start_time": "2025-01-10T16:11:14.148804Z"
    }
   },
   "cell_type": "code",
   "source": [
    "words_only = raw_train_ds.map(lambda x, y: x)\n",
    "vectorize_layer.adapt(words_only)"
   ],
   "id": "7d7cd392274d4107",
   "outputs": [],
   "execution_count": 36
  },
  {
   "metadata": {
    "ExecuteTime": {
     "end_time": "2025-01-10T16:11:21.091219Z",
     "start_time": "2025-01-10T16:11:21.087433Z"
    }
   },
   "cell_type": "code",
   "source": "vectorize_layer.finalize_state()",
   "id": "4a7d6bab43d8635",
   "outputs": [],
   "execution_count": 37
  },
  {
   "metadata": {},
   "cell_type": "code",
   "source": [
    "# Print example from data\n",
    "for text_batch, label_batch in raw_train_ds.take(1):\n",
    "  for i in range(1):\n",
    "    print(\"Review\", text_batch.numpy()[i])\n",
    "    print(\"Label\", label_batch.numpy()[i])"
   ],
   "id": "f951ad8191ff185f",
   "outputs": [],
   "execution_count": null
  },
  {
   "metadata": {
    "ExecuteTime": {
     "end_time": "2025-01-10T16:11:26.655195Z",
     "start_time": "2025-01-10T16:11:26.637381Z"
    }
   },
   "cell_type": "code",
   "source": [
    "model = tf.keras.models.Sequential([\n",
    "    vectorize_layer,\n",
    "    tf.keras.layers.Dense(250, activation='relu', name='hidden_layer1'),\n",
    "    tf.keras.layers.Dropout(0.2, name='dropout_layer1'),\n",
    "    tf.keras.layers.Dense(250, activation='relu', name='hidden_layer2'),\n",
    "    tf.keras.layers.Dense(2, name='output_layer')\n",
    "])\n",
    "\n",
    "# loss_fn = tf.keras.losses.BinaryCrossentropy(from_logits=True)\n",
    "loss_fn = tf.keras.losses.SparseCategoricalCrossentropy(from_logits=True, reduction='mean')"
   ],
   "id": "90d8a53a0a0eb547",
   "outputs": [],
   "execution_count": 38
  },
  {
   "metadata": {
    "ExecuteTime": {
     "end_time": "2025-01-10T16:11:30.462804Z",
     "start_time": "2025-01-10T16:11:30.452713Z"
    }
   },
   "cell_type": "code",
   "source": [
    "model.compile(loss=loss_fn,\n",
    "              metrics=['accuracy'])"
   ],
   "id": "fca32366828acd45",
   "outputs": [],
   "execution_count": 39
  },
  {
   "metadata": {
    "ExecuteTime": {
     "end_time": "2025-01-09T19:35:15.886656Z",
     "start_time": "2025-01-09T19:35:15.881899Z"
    }
   },
   "cell_type": "code",
   "source": [
    "def vectorize_text(text, label):\n",
    "  text = tf.expand_dims(text, -1)\n",
    "  return vectorize_layer(text), label"
   ],
   "id": "8246ef49a2f13e03",
   "outputs": [],
   "execution_count": 10
  },
  {
   "metadata": {
    "ExecuteTime": {
     "end_time": "2025-01-10T16:09:02.686965Z",
     "start_time": "2025-01-10T16:09:02.664502Z"
    }
   },
   "cell_type": "code",
   "source": [
    "AUTOTUNE = tf.data.AUTOTUNE\n",
    "\n",
    "train_ds = raw_train_ds.cache().prefetch(buffer_size=AUTOTUNE)\n",
    "validation_ds = raw_validation_ds.cache().prefetch(buffer_size=AUTOTUNE)\n",
    "test_ds = raw_test_ds.cache().prefetch(buffer_size=AUTOTUNE)"
   ],
   "id": "df88978dc6743d5",
   "outputs": [],
   "execution_count": 31
  },
  {
   "metadata": {
    "ExecuteTime": {
     "end_time": "2025-01-10T16:12:59.777423Z",
     "start_time": "2025-01-10T16:11:40.875214Z"
    }
   },
   "cell_type": "code",
   "source": "model.fit(raw_train_ds, epochs=10, validation_data=raw_validation_ds)",
   "id": "8ffdf6dff73c9979",
   "outputs": [
    {
     "name": "stdout",
     "output_type": "stream",
     "text": [
      "Epoch 1/10\n",
      "\u001B[1m625/625\u001B[0m \u001B[32m━━━━━━━━━━━━━━━━━━━━\u001B[0m\u001B[37m\u001B[0m \u001B[1m10s\u001B[0m 14ms/step - accuracy: 0.5031 - loss: 192.8603 - val_accuracy: 0.4916 - val_loss: 0.6964\n",
      "Epoch 2/10\n",
      "\u001B[1m625/625\u001B[0m \u001B[32m━━━━━━━━━━━━━━━━━━━━\u001B[0m\u001B[37m\u001B[0m \u001B[1m9s\u001B[0m 14ms/step - accuracy: 0.5017 - loss: 0.7777 - val_accuracy: 0.5076 - val_loss: 0.6932\n",
      "Epoch 3/10\n",
      "\u001B[1m625/625\u001B[0m \u001B[32m━━━━━━━━━━━━━━━━━━━━\u001B[0m\u001B[37m\u001B[0m \u001B[1m9s\u001B[0m 14ms/step - accuracy: 0.5015 - loss: 0.7277 - val_accuracy: 0.4924 - val_loss: 0.6932\n",
      "Epoch 4/10\n",
      "\u001B[1m625/625\u001B[0m \u001B[32m━━━━━━━━━━━━━━━━━━━━\u001B[0m\u001B[37m\u001B[0m \u001B[1m8s\u001B[0m 13ms/step - accuracy: 0.5047 - loss: 0.7126 - val_accuracy: 0.4924 - val_loss: 0.6940\n",
      "Epoch 5/10\n",
      "\u001B[1m625/625\u001B[0m \u001B[32m━━━━━━━━━━━━━━━━━━━━\u001B[0m\u001B[37m\u001B[0m \u001B[1m8s\u001B[0m 13ms/step - accuracy: 0.5087 - loss: 0.7172 - val_accuracy: 0.4920 - val_loss: 0.6936\n",
      "Epoch 6/10\n",
      "\u001B[1m625/625\u001B[0m \u001B[32m━━━━━━━━━━━━━━━━━━━━\u001B[0m\u001B[37m\u001B[0m \u001B[1m8s\u001B[0m 13ms/step - accuracy: 0.5042 - loss: 0.7185 - val_accuracy: 0.4922 - val_loss: 0.6938\n",
      "Epoch 7/10\n",
      "\u001B[1m625/625\u001B[0m \u001B[32m━━━━━━━━━━━━━━━━━━━━\u001B[0m\u001B[37m\u001B[0m \u001B[1m7s\u001B[0m 12ms/step - accuracy: 0.5036 - loss: 0.7093 - val_accuracy: 0.4924 - val_loss: 0.6952\n",
      "Epoch 8/10\n",
      "\u001B[1m625/625\u001B[0m \u001B[32m━━━━━━━━━━━━━━━━━━━━\u001B[0m\u001B[37m\u001B[0m \u001B[1m7s\u001B[0m 11ms/step - accuracy: 0.5028 - loss: 0.7124 - val_accuracy: 0.4922 - val_loss: 0.6946\n",
      "Epoch 9/10\n",
      "\u001B[1m625/625\u001B[0m \u001B[32m━━━━━━━━━━━━━━━━━━━━\u001B[0m\u001B[37m\u001B[0m \u001B[1m7s\u001B[0m 11ms/step - accuracy: 0.5071 - loss: 0.6999 - val_accuracy: 0.4920 - val_loss: 0.7000\n",
      "Epoch 10/10\n",
      "\u001B[1m625/625\u001B[0m \u001B[32m━━━━━━━━━━━━━━━━━━━━\u001B[0m\u001B[37m\u001B[0m \u001B[1m7s\u001B[0m 10ms/step - accuracy: 0.5051 - loss: 0.7068 - val_accuracy: 0.4924 - val_loss: 0.7326\n"
     ]
    },
    {
     "data": {
      "text/plain": [
       "<keras.src.callbacks.history.History at 0x2b24849fa10>"
      ]
     },
     "execution_count": 40,
     "metadata": {},
     "output_type": "execute_result"
    }
   ],
   "execution_count": 40
  },
  {
   "metadata": {
    "ExecuteTime": {
     "end_time": "2025-01-10T16:13:23.114377Z",
     "start_time": "2025-01-10T16:13:21.470203Z"
    }
   },
   "cell_type": "code",
   "source": "model.evaluate(raw_test_ds)",
   "id": "40377dbbff9ba881",
   "outputs": [
    {
     "name": "stdout",
     "output_type": "stream",
     "text": [
      "\u001B[1m146/146\u001B[0m \u001B[32m━━━━━━━━━━━━━━━━━━━━\u001B[0m\u001B[37m\u001B[0m \u001B[1m2s\u001B[0m 11ms/step - accuracy: 0.0014 - loss: 0.7014\n"
     ]
    },
    {
     "data": {
      "text/plain": [
       "[0.7015230655670166, 0.003227889072149992]"
      ]
     },
     "execution_count": 43,
     "metadata": {},
     "output_type": "execute_result"
    }
   ],
   "execution_count": 43
  }
 ],
 "metadata": {
  "kernelspec": {
   "display_name": "Python 3",
   "language": "python",
   "name": "python3"
  },
  "language_info": {
   "codemirror_mode": {
    "name": "ipython",
    "version": 2
   },
   "file_extension": ".py",
   "mimetype": "text/x-python",
   "name": "python",
   "nbconvert_exporter": "python",
   "pygments_lexer": "ipython2",
   "version": "2.7.6"
  }
 },
 "nbformat": 4,
 "nbformat_minor": 5
}
