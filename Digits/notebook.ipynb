{
 "cells": [
  {
   "metadata": {},
   "cell_type": "code",
   "source": [
    "from PIL import Image\n",
    "# Transform matrix X_train[0] to picture using PIL\n",
    "image_data = x_test[0].reshape(28, 28) * 255  # Reshape and scale pixel values\n",
    "image = Image.fromarray(image_data.astype(np.uint8), mode='L')  # Create a grayscale image\n",
    "image.save(\"transformed_image.png\")  # Save the image for verification"
   ],
   "id": "3e27211e16eacc9f",
   "outputs": [],
   "execution_count": null
  },
  {
   "metadata": {},
   "cell_type": "markdown",
   "source": "",
   "id": "9420a010eeab63da"
  },
  {
   "metadata": {},
   "cell_type": "code",
   "source": "!pip install tensorflow",
   "id": "5c797027019209f7",
   "outputs": [],
   "execution_count": null
  },
  {
   "metadata": {},
   "cell_type": "code",
   "source": [
    "import tensorflow as tf\n",
    "\n",
    "mnist = tf.keras.datasets.mnist\n",
    "(x_train, y_train), (x_test, y_test) = mnist.load_data()\n",
    "x_train, x_test = x_train / 255.0, x_test / 255.0\n",
    "\n",
    "model = tf.keras.models.Sequential([\n",
    "  tf.keras.layers.Flatten(input_shape=(28, 28)),\n",
    "  tf.keras.layers.Dense(32, activation='relu', name='hidden_layer1'),\n",
    "  tf.keras.layers.Dropout(0.2, name='dropout_layer1'),\n",
    "  tf.keras.layers.Dense(32, activation='relu', name='hidden_layer2'),\n",
    "  tf.keras.layers.Dense(10, name='output_layer')\n",
    "])"
   ],
   "id": "7ed05a2bdf8cdc3",
   "outputs": [],
   "execution_count": null
  },
  {
   "metadata": {},
   "cell_type": "code",
   "source": "loss_fn = tf.keras.losses.SparseCategoricalCrossentropy(from_logits=True, reduction='mean')",
   "id": "fcb9430d98908452",
   "outputs": [],
   "execution_count": null
  },
  {
   "metadata": {},
   "cell_type": "code",
   "source": [
    "optimizer =  tf.keras.optimizers.Adam(learning_rate=0.001)\n",
    "\n",
    "model.compile(optimizer=optimizer,\n",
    "              loss=loss_fn,\n",
    "              metrics=['accuracy'])"
   ],
   "id": "d67902b48e9af8a8",
   "outputs": [],
   "execution_count": null
  },
  {
   "metadata": {},
   "cell_type": "code",
   "source": "model.fit(x_train, y_train, epochs=5, batch_size=32)",
   "id": "508176f1cbf3f5a1",
   "outputs": [],
   "execution_count": null
  },
  {
   "metadata": {},
   "cell_type": "code",
   "source": "model.evaluate(x_test,  y_test, verbose=2)",
   "id": "bc472e4010530436",
   "outputs": [],
   "execution_count": null
  },
  {
   "metadata": {},
   "cell_type": "code",
   "source": [
    "probability_model = tf.keras.Sequential([\n",
    "  model,\n",
    "  tf.keras.layers.Softmax()\n",
    "])\n",
    "probability_model(x_test[:1])"
   ],
   "id": "56ceeba5d843316c",
   "outputs": [],
   "execution_count": null
  }
 ],
 "metadata": {
  "kernelspec": {
   "display_name": "Python 3",
   "language": "python",
   "name": "python3"
  },
  "language_info": {
   "codemirror_mode": {
    "name": "ipython",
    "version": 2
   },
   "file_extension": ".py",
   "mimetype": "text/x-python",
   "name": "python",
   "nbconvert_exporter": "python",
   "pygments_lexer": "ipython2",
   "version": "2.7.6"
  }
 },
 "nbformat": 4,
 "nbformat_minor": 5
}
